{
 "cells": [
  {
   "cell_type": "code",
   "execution_count": 1,
   "metadata": {},
   "outputs": [],
   "source": [
    "import pandas as pd\n",
    "import os\n",
    "import json\n",
    "import time\n",
    "from datetime import datetime"
   ]
  },
  {
   "cell_type": "code",
   "execution_count": 3,
   "metadata": {},
   "outputs": [
    {
     "name": "stdout",
     "output_type": "stream",
     "text": [
      "Creado archivo resultados MNIST nuevo!\n"
     ]
    }
   ],
   "source": [
    "# Primero debemos comprobar que existe el archivo con resultados previos, \n",
    "# si no es asi lo creamos vacio con las cabeceras correspondientes\n",
    "if not os.path.isfile('mnist_results.txt'):\n",
    "    f=open(\"mnist_results.txt\",\"w+\")\n",
    "    f.write(\"name,score,utc\")\n",
    "    f.close()\n",
    "    print(\"Creado archivo resultados MNIST nuevo!\")"
   ]
  },
  {
   "cell_type": "code",
   "execution_count": 4,
   "metadata": {},
   "outputs": [],
   "source": [
    "data = pd.read_csv('mnist_results.txt', sep=\",\")"
   ]
  },
  {
   "cell_type": "code",
   "execution_count": 5,
   "metadata": {},
   "outputs": [
    {
     "data": {
      "text/html": [
       "<div>\n",
       "<style scoped>\n",
       "    .dataframe tbody tr th:only-of-type {\n",
       "        vertical-align: middle;\n",
       "    }\n",
       "\n",
       "    .dataframe tbody tr th {\n",
       "        vertical-align: top;\n",
       "    }\n",
       "\n",
       "    .dataframe thead th {\n",
       "        text-align: right;\n",
       "    }\n",
       "</style>\n",
       "<table border=\"1\" class=\"dataframe\">\n",
       "  <thead>\n",
       "    <tr style=\"text-align: right;\">\n",
       "      <th></th>\n",
       "      <th>name</th>\n",
       "      <th>score</th>\n",
       "      <th>utc</th>\n",
       "    </tr>\n",
       "  </thead>\n",
       "  <tbody>\n",
       "  </tbody>\n",
       "</table>\n",
       "</div>"
      ],
      "text/plain": [
       "Empty DataFrame\n",
       "Columns: [name, score, utc]\n",
       "Index: []"
      ]
     },
     "execution_count": 5,
     "metadata": {},
     "output_type": "execute_result"
    }
   ],
   "source": [
    "data"
   ]
  },
  {
   "cell_type": "code",
   "execution_count": 6,
   "metadata": {},
   "outputs": [],
   "source": [
    "# PODEMOS GUARDAR EL INSTANTE DEL TIEMPO COMO SIGUE\n",
    "utc = time.time()\n",
    "# Despues, para poder imprimir el instante exacto llamaremos a \n",
    "# st = datetime.fromtimestamp(utc).strftime('%Y-%m-%d %H:%M:%S')"
   ]
  },
  {
   "cell_type": "code",
   "execution_count": 7,
   "metadata": {},
   "outputs": [],
   "source": [
    "## Simulamos que insertamos resultados en el fichero\n",
    "data = data.append({\"name\":\"Mario\", \"score\":0.8523512, \"utc\":utc}, ignore_index=True)\n",
    "data = data.append({\"name\":\"Fran\", \"score\":0.75235125, \"utc\":utc-300}, ignore_index=True)\n",
    "data = data.append({\"name\":\"Salva\", \"score\":0.3523512, \"utc\":utc-1000}, ignore_index=True)\n",
    "data = data.append({\"name\":\"Juan\", \"score\":0.7456833, \"utc\":utc-1111}, ignore_index=True)\n",
    "data = data.append({\"name\":\"Silvia\", \"score\":0.834673457, \"utc\":utc-272}, ignore_index=True)\n",
    "data = data.append({\"name\":\"Rodolfo\", \"score\":0.8673345, \"utc\":utc-7273}, ignore_index=True)\n",
    "data = data.append({\"name\":\"Nico\", \"score\":0.43568765, \"utc\":utc-61465}, ignore_index=True)\n",
    "data = data.append({\"name\":\"Alberto\", \"score\":0.545654, \"utc\":utc-452}, ignore_index=True)"
   ]
  },
  {
   "cell_type": "code",
   "execution_count": 8,
   "metadata": {},
   "outputs": [
    {
     "data": {
      "text/html": [
       "<div>\n",
       "<style scoped>\n",
       "    .dataframe tbody tr th:only-of-type {\n",
       "        vertical-align: middle;\n",
       "    }\n",
       "\n",
       "    .dataframe tbody tr th {\n",
       "        vertical-align: top;\n",
       "    }\n",
       "\n",
       "    .dataframe thead th {\n",
       "        text-align: right;\n",
       "    }\n",
       "</style>\n",
       "<table border=\"1\" class=\"dataframe\">\n",
       "  <thead>\n",
       "    <tr style=\"text-align: right;\">\n",
       "      <th></th>\n",
       "      <th>name</th>\n",
       "      <th>score</th>\n",
       "      <th>utc</th>\n",
       "    </tr>\n",
       "  </thead>\n",
       "  <tbody>\n",
       "    <tr>\n",
       "      <th>0</th>\n",
       "      <td>Mario</td>\n",
       "      <td>0.852351</td>\n",
       "      <td>1.559743e+09</td>\n",
       "    </tr>\n",
       "    <tr>\n",
       "      <th>1</th>\n",
       "      <td>Fran</td>\n",
       "      <td>0.752351</td>\n",
       "      <td>1.559743e+09</td>\n",
       "    </tr>\n",
       "    <tr>\n",
       "      <th>2</th>\n",
       "      <td>Salva</td>\n",
       "      <td>0.352351</td>\n",
       "      <td>1.559742e+09</td>\n",
       "    </tr>\n",
       "    <tr>\n",
       "      <th>3</th>\n",
       "      <td>Juan</td>\n",
       "      <td>0.745683</td>\n",
       "      <td>1.559742e+09</td>\n",
       "    </tr>\n",
       "    <tr>\n",
       "      <th>4</th>\n",
       "      <td>Silvia</td>\n",
       "      <td>0.834673</td>\n",
       "      <td>1.559743e+09</td>\n",
       "    </tr>\n",
       "    <tr>\n",
       "      <th>5</th>\n",
       "      <td>Rodolfo</td>\n",
       "      <td>0.867335</td>\n",
       "      <td>1.559736e+09</td>\n",
       "    </tr>\n",
       "    <tr>\n",
       "      <th>6</th>\n",
       "      <td>Nico</td>\n",
       "      <td>0.435688</td>\n",
       "      <td>1.559681e+09</td>\n",
       "    </tr>\n",
       "    <tr>\n",
       "      <th>7</th>\n",
       "      <td>Alberto</td>\n",
       "      <td>0.545654</td>\n",
       "      <td>1.559742e+09</td>\n",
       "    </tr>\n",
       "  </tbody>\n",
       "</table>\n",
       "</div>"
      ],
      "text/plain": [
       "      name     score           utc\n",
       "0    Mario  0.852351  1.559743e+09\n",
       "1     Fran  0.752351  1.559743e+09\n",
       "2    Salva  0.352351  1.559742e+09\n",
       "3     Juan  0.745683  1.559742e+09\n",
       "4   Silvia  0.834673  1.559743e+09\n",
       "5  Rodolfo  0.867335  1.559736e+09\n",
       "6     Nico  0.435688  1.559681e+09\n",
       "7  Alberto  0.545654  1.559742e+09"
      ]
     },
     "execution_count": 8,
     "metadata": {},
     "output_type": "execute_result"
    }
   ],
   "source": [
    "data"
   ]
  },
  {
   "cell_type": "code",
   "execution_count": 9,
   "metadata": {},
   "outputs": [],
   "source": [
    "data.to_csv('mnist_results.txt', sep=\",\", index=False)"
   ]
  },
  {
   "cell_type": "markdown",
   "metadata": {},
   "source": [
    "### Simulando carga tabla inicial 3 registros home"
   ]
  },
  {
   "cell_type": "code",
   "execution_count": 50,
   "metadata": {},
   "outputs": [],
   "source": [
    "data = pd.read_csv('mnist_results.txt', sep=\",\")"
   ]
  },
  {
   "cell_type": "code",
   "execution_count": 51,
   "metadata": {},
   "outputs": [
    {
     "data": {
      "text/html": [
       "<div>\n",
       "<style scoped>\n",
       "    .dataframe tbody tr th:only-of-type {\n",
       "        vertical-align: middle;\n",
       "    }\n",
       "\n",
       "    .dataframe tbody tr th {\n",
       "        vertical-align: top;\n",
       "    }\n",
       "\n",
       "    .dataframe thead th {\n",
       "        text-align: right;\n",
       "    }\n",
       "</style>\n",
       "<table border=\"1\" class=\"dataframe\">\n",
       "  <thead>\n",
       "    <tr style=\"text-align: right;\">\n",
       "      <th></th>\n",
       "      <th>name</th>\n",
       "      <th>score</th>\n",
       "      <th>utc</th>\n",
       "    </tr>\n",
       "  </thead>\n",
       "  <tbody>\n",
       "    <tr>\n",
       "      <th>0</th>\n",
       "      <td>Mario</td>\n",
       "      <td>0.852351</td>\n",
       "      <td>1.559743e+09</td>\n",
       "    </tr>\n",
       "    <tr>\n",
       "      <th>1</th>\n",
       "      <td>Fran</td>\n",
       "      <td>0.752351</td>\n",
       "      <td>1.559743e+09</td>\n",
       "    </tr>\n",
       "    <tr>\n",
       "      <th>2</th>\n",
       "      <td>Salva</td>\n",
       "      <td>0.352351</td>\n",
       "      <td>1.559742e+09</td>\n",
       "    </tr>\n",
       "    <tr>\n",
       "      <th>3</th>\n",
       "      <td>Juan</td>\n",
       "      <td>0.745683</td>\n",
       "      <td>1.559742e+09</td>\n",
       "    </tr>\n",
       "    <tr>\n",
       "      <th>4</th>\n",
       "      <td>Silvia</td>\n",
       "      <td>0.834673</td>\n",
       "      <td>1.559743e+09</td>\n",
       "    </tr>\n",
       "    <tr>\n",
       "      <th>5</th>\n",
       "      <td>Mario</td>\n",
       "      <td>0.952351</td>\n",
       "      <td>1.559543e+09</td>\n",
       "    </tr>\n",
       "    <tr>\n",
       "      <th>6</th>\n",
       "      <td>Rodolfo</td>\n",
       "      <td>0.867334</td>\n",
       "      <td>1.559736e+09</td>\n",
       "    </tr>\n",
       "    <tr>\n",
       "      <th>7</th>\n",
       "      <td>Nico</td>\n",
       "      <td>0.435688</td>\n",
       "      <td>1.559681e+09</td>\n",
       "    </tr>\n",
       "    <tr>\n",
       "      <th>8</th>\n",
       "      <td>Alberto</td>\n",
       "      <td>0.545654</td>\n",
       "      <td>1.559742e+09</td>\n",
       "    </tr>\n",
       "  </tbody>\n",
       "</table>\n",
       "</div>"
      ],
      "text/plain": [
       "      name     score           utc\n",
       "0    Mario  0.852351  1.559743e+09\n",
       "1     Fran  0.752351  1.559743e+09\n",
       "2    Salva  0.352351  1.559742e+09\n",
       "3     Juan  0.745683  1.559742e+09\n",
       "4   Silvia  0.834673  1.559743e+09\n",
       "5    Mario  0.952351  1.559543e+09\n",
       "6  Rodolfo  0.867334  1.559736e+09\n",
       "7     Nico  0.435688  1.559681e+09\n",
       "8  Alberto  0.545654  1.559742e+09"
      ]
     },
     "execution_count": 51,
     "metadata": {},
     "output_type": "execute_result"
    }
   ],
   "source": [
    "data"
   ]
  },
  {
   "cell_type": "code",
   "execution_count": 64,
   "metadata": {},
   "outputs": [
    {
     "data": {
      "text/plain": [
       "2"
      ]
     },
     "execution_count": 64,
     "metadata": {},
     "output_type": "execute_result"
    }
   ],
   "source": [
    "data.groupby('name').count().loc[\"Mario\"][\"score\"]"
   ]
  },
  {
   "cell_type": "code",
   "execution_count": 41,
   "metadata": {},
   "outputs": [
    {
     "data": {
      "text/html": [
       "<div>\n",
       "<style scoped>\n",
       "    .dataframe tbody tr th:only-of-type {\n",
       "        vertical-align: middle;\n",
       "    }\n",
       "\n",
       "    .dataframe tbody tr th {\n",
       "        vertical-align: top;\n",
       "    }\n",
       "\n",
       "    .dataframe thead th {\n",
       "        text-align: right;\n",
       "    }\n",
       "</style>\n",
       "<table border=\"1\" class=\"dataframe\">\n",
       "  <thead>\n",
       "    <tr style=\"text-align: right;\">\n",
       "      <th></th>\n",
       "      <th>name</th>\n",
       "      <th>score</th>\n",
       "      <th>utc</th>\n",
       "    </tr>\n",
       "  </thead>\n",
       "  <tbody>\n",
       "    <tr>\n",
       "      <th>5</th>\n",
       "      <td>Mario</td>\n",
       "      <td>0.952351</td>\n",
       "      <td>1.559543e+09</td>\n",
       "    </tr>\n",
       "    <tr>\n",
       "      <th>6</th>\n",
       "      <td>Rodolfo</td>\n",
       "      <td>0.867334</td>\n",
       "      <td>1.559736e+09</td>\n",
       "    </tr>\n",
       "    <tr>\n",
       "      <th>0</th>\n",
       "      <td>Mario</td>\n",
       "      <td>0.852351</td>\n",
       "      <td>1.559743e+09</td>\n",
       "    </tr>\n",
       "    <tr>\n",
       "      <th>4</th>\n",
       "      <td>Silvia</td>\n",
       "      <td>0.834673</td>\n",
       "      <td>1.559743e+09</td>\n",
       "    </tr>\n",
       "    <tr>\n",
       "      <th>1</th>\n",
       "      <td>Fran</td>\n",
       "      <td>0.752351</td>\n",
       "      <td>1.559743e+09</td>\n",
       "    </tr>\n",
       "    <tr>\n",
       "      <th>3</th>\n",
       "      <td>Juan</td>\n",
       "      <td>0.745683</td>\n",
       "      <td>1.559742e+09</td>\n",
       "    </tr>\n",
       "    <tr>\n",
       "      <th>8</th>\n",
       "      <td>Alberto</td>\n",
       "      <td>0.545654</td>\n",
       "      <td>1.559742e+09</td>\n",
       "    </tr>\n",
       "    <tr>\n",
       "      <th>7</th>\n",
       "      <td>Nico</td>\n",
       "      <td>0.435688</td>\n",
       "      <td>1.559681e+09</td>\n",
       "    </tr>\n",
       "    <tr>\n",
       "      <th>2</th>\n",
       "      <td>Salva</td>\n",
       "      <td>0.352351</td>\n",
       "      <td>1.559742e+09</td>\n",
       "    </tr>\n",
       "  </tbody>\n",
       "</table>\n",
       "</div>"
      ],
      "text/plain": [
       "      name     score           utc\n",
       "5    Mario  0.952351  1.559543e+09\n",
       "6  Rodolfo  0.867334  1.559736e+09\n",
       "0    Mario  0.852351  1.559743e+09\n",
       "4   Silvia  0.834673  1.559743e+09\n",
       "1     Fran  0.752351  1.559743e+09\n",
       "3     Juan  0.745683  1.559742e+09\n",
       "8  Alberto  0.545654  1.559742e+09\n",
       "7     Nico  0.435688  1.559681e+09\n",
       "2    Salva  0.352351  1.559742e+09"
      ]
     },
     "execution_count": 41,
     "metadata": {},
     "output_type": "execute_result"
    }
   ],
   "source": [
    "data.sort_values(by=['score'], ascending=False)"
   ]
  },
  {
   "cell_type": "code",
   "execution_count": 45,
   "metadata": {},
   "outputs": [],
   "source": [
    "data = data.sort_values(by=['score'], ascending=False)"
   ]
  },
  {
   "cell_type": "code",
   "execution_count": 46,
   "metadata": {},
   "outputs": [],
   "source": [
    "registers2display = 3"
   ]
  },
  {
   "cell_type": "code",
   "execution_count": 47,
   "metadata": {},
   "outputs": [],
   "source": [
    "result, iters = {}, 0 \n",
    "for index, row in data.iterrows():\n",
    "    result[iters] = {row['name'],row['score'],row['utc']}\n",
    "    \n",
    "    iters+=1\n",
    "    if iters==registers2display:break"
   ]
  },
  {
   "cell_type": "code",
   "execution_count": 48,
   "metadata": {},
   "outputs": [
    {
     "data": {
      "text/plain": [
       "{0: {0.9523511999999998, 1559542819.5500743, 'Mario'},\n",
       " 1: {0.8673344999999999, 1559735546.5500743, 'Rodolfo'},\n",
       " 2: {0.8523511999999999, 1559742819.5500743, 'Mario'}}"
      ]
     },
     "execution_count": 48,
     "metadata": {},
     "output_type": "execute_result"
    }
   ],
   "source": [
    "result"
   ]
  },
  {
   "cell_type": "code",
   "execution_count": 49,
   "metadata": {},
   "outputs": [
    {
     "data": {
      "text/html": [
       "<div>\n",
       "<style scoped>\n",
       "    .dataframe tbody tr th:only-of-type {\n",
       "        vertical-align: middle;\n",
       "    }\n",
       "\n",
       "    .dataframe tbody tr th {\n",
       "        vertical-align: top;\n",
       "    }\n",
       "\n",
       "    .dataframe thead th {\n",
       "        text-align: right;\n",
       "    }\n",
       "</style>\n",
       "<table border=\"1\" class=\"dataframe\">\n",
       "  <thead>\n",
       "    <tr style=\"text-align: right;\">\n",
       "      <th></th>\n",
       "      <th>name</th>\n",
       "      <th>score</th>\n",
       "      <th>utc</th>\n",
       "    </tr>\n",
       "  </thead>\n",
       "  <tbody>\n",
       "    <tr>\n",
       "      <th>5</th>\n",
       "      <td>Mario</td>\n",
       "      <td>0.952351</td>\n",
       "      <td>1.559543e+09</td>\n",
       "    </tr>\n",
       "    <tr>\n",
       "      <th>6</th>\n",
       "      <td>Rodolfo</td>\n",
       "      <td>0.867334</td>\n",
       "      <td>1.559736e+09</td>\n",
       "    </tr>\n",
       "    <tr>\n",
       "      <th>0</th>\n",
       "      <td>Mario</td>\n",
       "      <td>0.852351</td>\n",
       "      <td>1.559743e+09</td>\n",
       "    </tr>\n",
       "    <tr>\n",
       "      <th>4</th>\n",
       "      <td>Silvia</td>\n",
       "      <td>0.834673</td>\n",
       "      <td>1.559743e+09</td>\n",
       "    </tr>\n",
       "    <tr>\n",
       "      <th>1</th>\n",
       "      <td>Fran</td>\n",
       "      <td>0.752351</td>\n",
       "      <td>1.559743e+09</td>\n",
       "    </tr>\n",
       "    <tr>\n",
       "      <th>3</th>\n",
       "      <td>Juan</td>\n",
       "      <td>0.745683</td>\n",
       "      <td>1.559742e+09</td>\n",
       "    </tr>\n",
       "    <tr>\n",
       "      <th>8</th>\n",
       "      <td>Alberto</td>\n",
       "      <td>0.545654</td>\n",
       "      <td>1.559742e+09</td>\n",
       "    </tr>\n",
       "    <tr>\n",
       "      <th>7</th>\n",
       "      <td>Nico</td>\n",
       "      <td>0.435688</td>\n",
       "      <td>1.559681e+09</td>\n",
       "    </tr>\n",
       "    <tr>\n",
       "      <th>2</th>\n",
       "      <td>Salva</td>\n",
       "      <td>0.352351</td>\n",
       "      <td>1.559742e+09</td>\n",
       "    </tr>\n",
       "  </tbody>\n",
       "</table>\n",
       "</div>"
      ],
      "text/plain": [
       "      name     score           utc\n",
       "5    Mario  0.952351  1.559543e+09\n",
       "6  Rodolfo  0.867334  1.559736e+09\n",
       "0    Mario  0.852351  1.559743e+09\n",
       "4   Silvia  0.834673  1.559743e+09\n",
       "1     Fran  0.752351  1.559743e+09\n",
       "3     Juan  0.745683  1.559742e+09\n",
       "8  Alberto  0.545654  1.559742e+09\n",
       "7     Nico  0.435688  1.559681e+09\n",
       "2    Salva  0.352351  1.559742e+09"
      ]
     },
     "execution_count": 49,
     "metadata": {},
     "output_type": "execute_result"
    }
   ],
   "source": [
    "data"
   ]
  }
 ],
 "metadata": {
  "kernelspec": {
   "display_name": "Python 3",
   "language": "python",
   "name": "python3"
  },
  "language_info": {
   "codemirror_mode": {
    "name": "ipython",
    "version": 3
   },
   "file_extension": ".py",
   "mimetype": "text/x-python",
   "name": "python",
   "nbconvert_exporter": "python",
   "pygments_lexer": "ipython3",
   "version": "3.5.2"
  }
 },
 "nbformat": 4,
 "nbformat_minor": 2
}
